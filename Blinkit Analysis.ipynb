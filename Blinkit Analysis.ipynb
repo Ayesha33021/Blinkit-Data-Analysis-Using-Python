{
 "cells": [
  {
   "cell_type": "markdown",
   "id": "59dbd82a-9c1a-4472-b42a-01d0ac366ff0",
   "metadata": {},
   "source": [
    "# DATA ANALYSIS UNSING PYTHON. BLINKIT ANALYSIS"
   ]
  },
  {
   "cell_type": "markdown",
   "id": "3bd5e3cd-4158-4150-a8cc-e779a90e96d0",
   "metadata": {},
   "source": [
    "## Total Sales,Average Sales,No of Items,Average Rating"
   ]
  },
  {
   "cell_type": "markdown",
   "id": "525cd92a-aa50-445e-8dab-78d4483449a0",
   "metadata": {},
   "source": [
    "## Chart requirement == Total sales by fat content(Donut Chart),Total sales by item type(Bar chart),Fat content by outlet for Total Sale(Stacked column chart)"
   ]
  },
  {
   "cell_type": "markdown",
   "id": "c2c84b9f-2be5-4822-aa10-6740b34e344e",
   "metadata": {},
   "source": [
    "### import Libraries"
   ]
  },
  {
   "cell_type": "code",
   "execution_count": 55,
   "id": "490fb276-3343-4154-b976-03a449dfec2a",
   "metadata": {},
   "outputs": [],
   "source": [
    "import pandas as pd \n",
    "import numpy as np\n",
    "import matplotlib.pyplot as plt\n",
    "import seaborn as sns"
   ]
  },
  {
   "cell_type": "markdown",
   "id": "c57f9541-950a-4f74-ac8d-0debd189ebe9",
   "metadata": {},
   "source": [
    "### import Raw data"
   ]
  },
  {
   "cell_type": "code",
   "execution_count": 2,
   "id": "e2d0e801-9b03-4e4f-a3fc-702789f8ed6b",
   "metadata": {},
   "outputs": [],
   "source": [
    "data=pd.read_csv('blinkit_data.csv')"
   ]
  },
  {
   "cell_type": "code",
   "execution_count": 3,
   "id": "ec0895b0-05de-4147-bbb5-c264ecc3a1f0",
   "metadata": {},
   "outputs": [
    {
     "data": {
      "text/html": [
       "<div>\n",
       "<style scoped>\n",
       "    .dataframe tbody tr th:only-of-type {\n",
       "        vertical-align: middle;\n",
       "    }\n",
       "\n",
       "    .dataframe tbody tr th {\n",
       "        vertical-align: top;\n",
       "    }\n",
       "\n",
       "    .dataframe thead th {\n",
       "        text-align: right;\n",
       "    }\n",
       "</style>\n",
       "<table border=\"1\" class=\"dataframe\">\n",
       "  <thead>\n",
       "    <tr style=\"text-align: right;\">\n",
       "      <th></th>\n",
       "      <th>Item Fat Content</th>\n",
       "      <th>Item Identifier</th>\n",
       "      <th>Item Type</th>\n",
       "      <th>Outlet Establishment Year</th>\n",
       "      <th>Outlet Identifier</th>\n",
       "      <th>Outlet Location Type</th>\n",
       "      <th>Outlet Size</th>\n",
       "      <th>Outlet Type</th>\n",
       "      <th>Item Visibility</th>\n",
       "      <th>Item Weight</th>\n",
       "      <th>Sales</th>\n",
       "      <th>Rating</th>\n",
       "    </tr>\n",
       "  </thead>\n",
       "  <tbody>\n",
       "    <tr>\n",
       "      <th>0</th>\n",
       "      <td>Regular</td>\n",
       "      <td>FDX32</td>\n",
       "      <td>Fruits and Vegetables</td>\n",
       "      <td>2012</td>\n",
       "      <td>OUT049</td>\n",
       "      <td>Tier 1</td>\n",
       "      <td>Medium</td>\n",
       "      <td>Supermarket Type1</td>\n",
       "      <td>0.100014</td>\n",
       "      <td>15.100</td>\n",
       "      <td>145.4786</td>\n",
       "      <td>5.0</td>\n",
       "    </tr>\n",
       "    <tr>\n",
       "      <th>1</th>\n",
       "      <td>Low Fat</td>\n",
       "      <td>NCB42</td>\n",
       "      <td>Health and Hygiene</td>\n",
       "      <td>2022</td>\n",
       "      <td>OUT018</td>\n",
       "      <td>Tier 3</td>\n",
       "      <td>Medium</td>\n",
       "      <td>Supermarket Type2</td>\n",
       "      <td>0.008596</td>\n",
       "      <td>11.800</td>\n",
       "      <td>115.3492</td>\n",
       "      <td>5.0</td>\n",
       "    </tr>\n",
       "    <tr>\n",
       "      <th>2</th>\n",
       "      <td>Regular</td>\n",
       "      <td>FDR28</td>\n",
       "      <td>Frozen Foods</td>\n",
       "      <td>2010</td>\n",
       "      <td>OUT046</td>\n",
       "      <td>Tier 1</td>\n",
       "      <td>Small</td>\n",
       "      <td>Supermarket Type1</td>\n",
       "      <td>0.025896</td>\n",
       "      <td>13.850</td>\n",
       "      <td>165.0210</td>\n",
       "      <td>5.0</td>\n",
       "    </tr>\n",
       "    <tr>\n",
       "      <th>3</th>\n",
       "      <td>Regular</td>\n",
       "      <td>FDL50</td>\n",
       "      <td>Canned</td>\n",
       "      <td>2000</td>\n",
       "      <td>OUT013</td>\n",
       "      <td>Tier 3</td>\n",
       "      <td>High</td>\n",
       "      <td>Supermarket Type1</td>\n",
       "      <td>0.042278</td>\n",
       "      <td>12.150</td>\n",
       "      <td>126.5046</td>\n",
       "      <td>5.0</td>\n",
       "    </tr>\n",
       "    <tr>\n",
       "      <th>4</th>\n",
       "      <td>Low Fat</td>\n",
       "      <td>DRI25</td>\n",
       "      <td>Soft Drinks</td>\n",
       "      <td>2015</td>\n",
       "      <td>OUT045</td>\n",
       "      <td>Tier 2</td>\n",
       "      <td>Small</td>\n",
       "      <td>Supermarket Type1</td>\n",
       "      <td>0.033970</td>\n",
       "      <td>19.600</td>\n",
       "      <td>55.1614</td>\n",
       "      <td>5.0</td>\n",
       "    </tr>\n",
       "    <tr>\n",
       "      <th>5</th>\n",
       "      <td>low fat</td>\n",
       "      <td>FDS52</td>\n",
       "      <td>Frozen Foods</td>\n",
       "      <td>2020</td>\n",
       "      <td>OUT017</td>\n",
       "      <td>Tier 2</td>\n",
       "      <td>Small</td>\n",
       "      <td>Supermarket Type1</td>\n",
       "      <td>0.005505</td>\n",
       "      <td>8.890</td>\n",
       "      <td>102.4016</td>\n",
       "      <td>5.0</td>\n",
       "    </tr>\n",
       "    <tr>\n",
       "      <th>6</th>\n",
       "      <td>Low Fat</td>\n",
       "      <td>NCU05</td>\n",
       "      <td>Health and Hygiene</td>\n",
       "      <td>2011</td>\n",
       "      <td>OUT010</td>\n",
       "      <td>Tier 3</td>\n",
       "      <td>Small</td>\n",
       "      <td>Grocery Store</td>\n",
       "      <td>0.098312</td>\n",
       "      <td>11.800</td>\n",
       "      <td>81.4618</td>\n",
       "      <td>5.0</td>\n",
       "    </tr>\n",
       "    <tr>\n",
       "      <th>7</th>\n",
       "      <td>Low Fat</td>\n",
       "      <td>NCD30</td>\n",
       "      <td>Household</td>\n",
       "      <td>2015</td>\n",
       "      <td>OUT045</td>\n",
       "      <td>Tier 2</td>\n",
       "      <td>Small</td>\n",
       "      <td>Supermarket Type1</td>\n",
       "      <td>0.026904</td>\n",
       "      <td>19.700</td>\n",
       "      <td>96.0726</td>\n",
       "      <td>5.0</td>\n",
       "    </tr>\n",
       "    <tr>\n",
       "      <th>8</th>\n",
       "      <td>Low Fat</td>\n",
       "      <td>FDW20</td>\n",
       "      <td>Fruits and Vegetables</td>\n",
       "      <td>2000</td>\n",
       "      <td>OUT013</td>\n",
       "      <td>Tier 3</td>\n",
       "      <td>High</td>\n",
       "      <td>Supermarket Type1</td>\n",
       "      <td>0.024129</td>\n",
       "      <td>20.750</td>\n",
       "      <td>124.1730</td>\n",
       "      <td>5.0</td>\n",
       "    </tr>\n",
       "    <tr>\n",
       "      <th>9</th>\n",
       "      <td>Low Fat</td>\n",
       "      <td>FDX25</td>\n",
       "      <td>Canned</td>\n",
       "      <td>1998</td>\n",
       "      <td>OUT027</td>\n",
       "      <td>Tier 3</td>\n",
       "      <td>Medium</td>\n",
       "      <td>Supermarket Type3</td>\n",
       "      <td>0.101562</td>\n",
       "      <td>NaN</td>\n",
       "      <td>181.9292</td>\n",
       "      <td>5.0</td>\n",
       "    </tr>\n",
       "    <tr>\n",
       "      <th>10</th>\n",
       "      <td>LF</td>\n",
       "      <td>FDX21</td>\n",
       "      <td>Snack Foods</td>\n",
       "      <td>1998</td>\n",
       "      <td>OUT027</td>\n",
       "      <td>Tier 3</td>\n",
       "      <td>Medium</td>\n",
       "      <td>Supermarket Type3</td>\n",
       "      <td>0.084555</td>\n",
       "      <td>NaN</td>\n",
       "      <td>109.8912</td>\n",
       "      <td>5.0</td>\n",
       "    </tr>\n",
       "    <tr>\n",
       "      <th>11</th>\n",
       "      <td>Low Fat</td>\n",
       "      <td>NCU41</td>\n",
       "      <td>Health and Hygiene</td>\n",
       "      <td>2017</td>\n",
       "      <td>OUT035</td>\n",
       "      <td>Tier 2</td>\n",
       "      <td>Small</td>\n",
       "      <td>Supermarket Type1</td>\n",
       "      <td>0.052045</td>\n",
       "      <td>18.850</td>\n",
       "      <td>192.1846</td>\n",
       "      <td>5.0</td>\n",
       "    </tr>\n",
       "    <tr>\n",
       "      <th>12</th>\n",
       "      <td>Low Fat</td>\n",
       "      <td>FDL20</td>\n",
       "      <td>Fruits and Vegetables</td>\n",
       "      <td>2022</td>\n",
       "      <td>OUT018</td>\n",
       "      <td>Tier 3</td>\n",
       "      <td>Medium</td>\n",
       "      <td>Supermarket Type2</td>\n",
       "      <td>0.128938</td>\n",
       "      <td>17.100</td>\n",
       "      <td>112.3886</td>\n",
       "      <td>5.0</td>\n",
       "    </tr>\n",
       "    <tr>\n",
       "      <th>13</th>\n",
       "      <td>Low Fat</td>\n",
       "      <td>NCR54</td>\n",
       "      <td>Household</td>\n",
       "      <td>2000</td>\n",
       "      <td>OUT013</td>\n",
       "      <td>Tier 3</td>\n",
       "      <td>High</td>\n",
       "      <td>Supermarket Type1</td>\n",
       "      <td>0.090487</td>\n",
       "      <td>16.350</td>\n",
       "      <td>195.2110</td>\n",
       "      <td>5.0</td>\n",
       "    </tr>\n",
       "    <tr>\n",
       "      <th>14</th>\n",
       "      <td>Low Fat</td>\n",
       "      <td>FDH19</td>\n",
       "      <td>Meat</td>\n",
       "      <td>1998</td>\n",
       "      <td>OUT027</td>\n",
       "      <td>Tier 3</td>\n",
       "      <td>Medium</td>\n",
       "      <td>Supermarket Type3</td>\n",
       "      <td>0.032928</td>\n",
       "      <td>NaN</td>\n",
       "      <td>173.1738</td>\n",
       "      <td>5.0</td>\n",
       "    </tr>\n",
       "    <tr>\n",
       "      <th>15</th>\n",
       "      <td>Regular</td>\n",
       "      <td>FDB57</td>\n",
       "      <td>Fruits and Vegetables</td>\n",
       "      <td>2017</td>\n",
       "      <td>OUT035</td>\n",
       "      <td>Tier 2</td>\n",
       "      <td>Small</td>\n",
       "      <td>Supermarket Type1</td>\n",
       "      <td>0.018802</td>\n",
       "      <td>20.250</td>\n",
       "      <td>222.1772</td>\n",
       "      <td>5.0</td>\n",
       "    </tr>\n",
       "    <tr>\n",
       "      <th>16</th>\n",
       "      <td>Low Fat</td>\n",
       "      <td>FDO23</td>\n",
       "      <td>Breads</td>\n",
       "      <td>2022</td>\n",
       "      <td>OUT018</td>\n",
       "      <td>Tier 3</td>\n",
       "      <td>Medium</td>\n",
       "      <td>Supermarket Type2</td>\n",
       "      <td>0.147024</td>\n",
       "      <td>17.850</td>\n",
       "      <td>93.7436</td>\n",
       "      <td>5.0</td>\n",
       "    </tr>\n",
       "    <tr>\n",
       "      <th>17</th>\n",
       "      <td>Low Fat</td>\n",
       "      <td>NCB07</td>\n",
       "      <td>Household</td>\n",
       "      <td>2012</td>\n",
       "      <td>OUT049</td>\n",
       "      <td>Tier 1</td>\n",
       "      <td>Medium</td>\n",
       "      <td>Supermarket Type1</td>\n",
       "      <td>0.077628</td>\n",
       "      <td>19.200</td>\n",
       "      <td>197.6110</td>\n",
       "      <td>5.0</td>\n",
       "    </tr>\n",
       "    <tr>\n",
       "      <th>18</th>\n",
       "      <td>Low Fat</td>\n",
       "      <td>FDJ56</td>\n",
       "      <td>Fruits and Vegetables</td>\n",
       "      <td>1998</td>\n",
       "      <td>OUT027</td>\n",
       "      <td>Tier 3</td>\n",
       "      <td>Medium</td>\n",
       "      <td>Supermarket Type3</td>\n",
       "      <td>0.182515</td>\n",
       "      <td>NaN</td>\n",
       "      <td>98.7700</td>\n",
       "      <td>5.0</td>\n",
       "    </tr>\n",
       "    <tr>\n",
       "      <th>19</th>\n",
       "      <td>Low Fat</td>\n",
       "      <td>DRN47</td>\n",
       "      <td>Hard Drinks</td>\n",
       "      <td>2022</td>\n",
       "      <td>OUT018</td>\n",
       "      <td>Tier 3</td>\n",
       "      <td>Medium</td>\n",
       "      <td>Supermarket Type2</td>\n",
       "      <td>0.016895</td>\n",
       "      <td>12.100</td>\n",
       "      <td>178.5660</td>\n",
       "      <td>5.0</td>\n",
       "    </tr>\n",
       "    <tr>\n",
       "      <th>20</th>\n",
       "      <td>Regular</td>\n",
       "      <td>FDZ07</td>\n",
       "      <td>Fruits and Vegetables</td>\n",
       "      <td>1998</td>\n",
       "      <td>OUT027</td>\n",
       "      <td>Tier 3</td>\n",
       "      <td>Medium</td>\n",
       "      <td>Supermarket Type3</td>\n",
       "      <td>0.000000</td>\n",
       "      <td>NaN</td>\n",
       "      <td>60.2194</td>\n",
       "      <td>5.0</td>\n",
       "    </tr>\n",
       "    <tr>\n",
       "      <th>21</th>\n",
       "      <td>Low Fat</td>\n",
       "      <td>NCK31</td>\n",
       "      <td>Others</td>\n",
       "      <td>1998</td>\n",
       "      <td>OUT027</td>\n",
       "      <td>Tier 3</td>\n",
       "      <td>Medium</td>\n",
       "      <td>Supermarket Type3</td>\n",
       "      <td>0.026917</td>\n",
       "      <td>NaN</td>\n",
       "      <td>50.9666</td>\n",
       "      <td>5.0</td>\n",
       "    </tr>\n",
       "    <tr>\n",
       "      <th>22</th>\n",
       "      <td>Low Fat</td>\n",
       "      <td>FDJ41</td>\n",
       "      <td>Frozen Foods</td>\n",
       "      <td>2022</td>\n",
       "      <td>OUT018</td>\n",
       "      <td>Tier 3</td>\n",
       "      <td>Medium</td>\n",
       "      <td>Supermarket Type2</td>\n",
       "      <td>0.022976</td>\n",
       "      <td>6.850</td>\n",
       "      <td>261.6594</td>\n",
       "      <td>5.0</td>\n",
       "    </tr>\n",
       "    <tr>\n",
       "      <th>23</th>\n",
       "      <td>Low Fat</td>\n",
       "      <td>DRI51</td>\n",
       "      <td>Dairy</td>\n",
       "      <td>2022</td>\n",
       "      <td>OUT018</td>\n",
       "      <td>Tier 3</td>\n",
       "      <td>Medium</td>\n",
       "      <td>Supermarket Type2</td>\n",
       "      <td>0.042414</td>\n",
       "      <td>17.250</td>\n",
       "      <td>173.1764</td>\n",
       "      <td>5.0</td>\n",
       "    </tr>\n",
       "    <tr>\n",
       "      <th>24</th>\n",
       "      <td>Regular</td>\n",
       "      <td>FDC40</td>\n",
       "      <td>Dairy</td>\n",
       "      <td>2020</td>\n",
       "      <td>OUT017</td>\n",
       "      <td>Tier 2</td>\n",
       "      <td>Medium</td>\n",
       "      <td>Supermarket Type1</td>\n",
       "      <td>0.065432</td>\n",
       "      <td>16.000</td>\n",
       "      <td>76.1986</td>\n",
       "      <td>5.0</td>\n",
       "    </tr>\n",
       "    <tr>\n",
       "      <th>25</th>\n",
       "      <td>Low Fat</td>\n",
       "      <td>FDB53</td>\n",
       "      <td>Frozen Foods</td>\n",
       "      <td>2020</td>\n",
       "      <td>OUT017</td>\n",
       "      <td>Tier 2</td>\n",
       "      <td>Medium</td>\n",
       "      <td>Supermarket Type1</td>\n",
       "      <td>0.140241</td>\n",
       "      <td>13.350</td>\n",
       "      <td>150.2392</td>\n",
       "      <td>5.0</td>\n",
       "    </tr>\n",
       "    <tr>\n",
       "      <th>26</th>\n",
       "      <td>Low Fat</td>\n",
       "      <td>FDA16</td>\n",
       "      <td>Frozen Foods</td>\n",
       "      <td>2017</td>\n",
       "      <td>OUT035</td>\n",
       "      <td>Tier 2</td>\n",
       "      <td>Small</td>\n",
       "      <td>Supermarket Type1</td>\n",
       "      <td>0.033936</td>\n",
       "      <td>6.695</td>\n",
       "      <td>221.9456</td>\n",
       "      <td>5.0</td>\n",
       "    </tr>\n",
       "    <tr>\n",
       "      <th>27</th>\n",
       "      <td>Regular</td>\n",
       "      <td>FDO19</td>\n",
       "      <td>Fruits and Vegetables</td>\n",
       "      <td>1998</td>\n",
       "      <td>OUT027</td>\n",
       "      <td>Tier 3</td>\n",
       "      <td>Medium</td>\n",
       "      <td>Supermarket Type3</td>\n",
       "      <td>0.016516</td>\n",
       "      <td>NaN</td>\n",
       "      <td>47.4034</td>\n",
       "      <td>5.0</td>\n",
       "    </tr>\n",
       "    <tr>\n",
       "      <th>28</th>\n",
       "      <td>Low Fat</td>\n",
       "      <td>FDO04</td>\n",
       "      <td>Frozen Foods</td>\n",
       "      <td>2010</td>\n",
       "      <td>OUT046</td>\n",
       "      <td>Tier 1</td>\n",
       "      <td>Small</td>\n",
       "      <td>Supermarket Type1</td>\n",
       "      <td>0.026537</td>\n",
       "      <td>16.600</td>\n",
       "      <td>57.2614</td>\n",
       "      <td>5.0</td>\n",
       "    </tr>\n",
       "    <tr>\n",
       "      <th>29</th>\n",
       "      <td>Regular</td>\n",
       "      <td>FDL25</td>\n",
       "      <td>Breakfast</td>\n",
       "      <td>2012</td>\n",
       "      <td>OUT049</td>\n",
       "      <td>Tier 1</td>\n",
       "      <td>Medium</td>\n",
       "      <td>Supermarket Type1</td>\n",
       "      <td>0.131128</td>\n",
       "      <td>6.920</td>\n",
       "      <td>93.1804</td>\n",
       "      <td>5.0</td>\n",
       "    </tr>\n",
       "  </tbody>\n",
       "</table>\n",
       "</div>"
      ],
      "text/plain": [
       "   Item Fat Content Item Identifier              Item Type  \\\n",
       "0           Regular           FDX32  Fruits and Vegetables   \n",
       "1           Low Fat           NCB42     Health and Hygiene   \n",
       "2           Regular           FDR28           Frozen Foods   \n",
       "3           Regular           FDL50                 Canned   \n",
       "4           Low Fat           DRI25            Soft Drinks   \n",
       "5           low fat           FDS52           Frozen Foods   \n",
       "6           Low Fat           NCU05     Health and Hygiene   \n",
       "7           Low Fat           NCD30              Household   \n",
       "8           Low Fat           FDW20  Fruits and Vegetables   \n",
       "9           Low Fat           FDX25                 Canned   \n",
       "10               LF           FDX21            Snack Foods   \n",
       "11          Low Fat           NCU41     Health and Hygiene   \n",
       "12          Low Fat           FDL20  Fruits and Vegetables   \n",
       "13          Low Fat           NCR54              Household   \n",
       "14          Low Fat           FDH19                   Meat   \n",
       "15          Regular           FDB57  Fruits and Vegetables   \n",
       "16          Low Fat           FDO23                 Breads   \n",
       "17          Low Fat           NCB07              Household   \n",
       "18          Low Fat           FDJ56  Fruits and Vegetables   \n",
       "19          Low Fat           DRN47            Hard Drinks   \n",
       "20          Regular           FDZ07  Fruits and Vegetables   \n",
       "21          Low Fat           NCK31                 Others   \n",
       "22          Low Fat           FDJ41           Frozen Foods   \n",
       "23          Low Fat           DRI51                  Dairy   \n",
       "24          Regular           FDC40                  Dairy   \n",
       "25          Low Fat           FDB53           Frozen Foods   \n",
       "26          Low Fat           FDA16           Frozen Foods   \n",
       "27          Regular           FDO19  Fruits and Vegetables   \n",
       "28          Low Fat           FDO04           Frozen Foods   \n",
       "29          Regular           FDL25              Breakfast   \n",
       "\n",
       "    Outlet Establishment Year Outlet Identifier Outlet Location Type  \\\n",
       "0                        2012            OUT049               Tier 1   \n",
       "1                        2022            OUT018               Tier 3   \n",
       "2                        2010            OUT046               Tier 1   \n",
       "3                        2000            OUT013               Tier 3   \n",
       "4                        2015            OUT045               Tier 2   \n",
       "5                        2020            OUT017               Tier 2   \n",
       "6                        2011            OUT010               Tier 3   \n",
       "7                        2015            OUT045               Tier 2   \n",
       "8                        2000            OUT013               Tier 3   \n",
       "9                        1998            OUT027               Tier 3   \n",
       "10                       1998            OUT027               Tier 3   \n",
       "11                       2017            OUT035               Tier 2   \n",
       "12                       2022            OUT018               Tier 3   \n",
       "13                       2000            OUT013               Tier 3   \n",
       "14                       1998            OUT027               Tier 3   \n",
       "15                       2017            OUT035               Tier 2   \n",
       "16                       2022            OUT018               Tier 3   \n",
       "17                       2012            OUT049               Tier 1   \n",
       "18                       1998            OUT027               Tier 3   \n",
       "19                       2022            OUT018               Tier 3   \n",
       "20                       1998            OUT027               Tier 3   \n",
       "21                       1998            OUT027               Tier 3   \n",
       "22                       2022            OUT018               Tier 3   \n",
       "23                       2022            OUT018               Tier 3   \n",
       "24                       2020            OUT017               Tier 2   \n",
       "25                       2020            OUT017               Tier 2   \n",
       "26                       2017            OUT035               Tier 2   \n",
       "27                       1998            OUT027               Tier 3   \n",
       "28                       2010            OUT046               Tier 1   \n",
       "29                       2012            OUT049               Tier 1   \n",
       "\n",
       "   Outlet Size        Outlet Type  Item Visibility  Item Weight     Sales  \\\n",
       "0       Medium  Supermarket Type1         0.100014       15.100  145.4786   \n",
       "1       Medium  Supermarket Type2         0.008596       11.800  115.3492   \n",
       "2        Small  Supermarket Type1         0.025896       13.850  165.0210   \n",
       "3         High  Supermarket Type1         0.042278       12.150  126.5046   \n",
       "4        Small  Supermarket Type1         0.033970       19.600   55.1614   \n",
       "5        Small  Supermarket Type1         0.005505        8.890  102.4016   \n",
       "6        Small      Grocery Store         0.098312       11.800   81.4618   \n",
       "7        Small  Supermarket Type1         0.026904       19.700   96.0726   \n",
       "8         High  Supermarket Type1         0.024129       20.750  124.1730   \n",
       "9       Medium  Supermarket Type3         0.101562          NaN  181.9292   \n",
       "10      Medium  Supermarket Type3         0.084555          NaN  109.8912   \n",
       "11       Small  Supermarket Type1         0.052045       18.850  192.1846   \n",
       "12      Medium  Supermarket Type2         0.128938       17.100  112.3886   \n",
       "13        High  Supermarket Type1         0.090487       16.350  195.2110   \n",
       "14      Medium  Supermarket Type3         0.032928          NaN  173.1738   \n",
       "15       Small  Supermarket Type1         0.018802       20.250  222.1772   \n",
       "16      Medium  Supermarket Type2         0.147024       17.850   93.7436   \n",
       "17      Medium  Supermarket Type1         0.077628       19.200  197.6110   \n",
       "18      Medium  Supermarket Type3         0.182515          NaN   98.7700   \n",
       "19      Medium  Supermarket Type2         0.016895       12.100  178.5660   \n",
       "20      Medium  Supermarket Type3         0.000000          NaN   60.2194   \n",
       "21      Medium  Supermarket Type3         0.026917          NaN   50.9666   \n",
       "22      Medium  Supermarket Type2         0.022976        6.850  261.6594   \n",
       "23      Medium  Supermarket Type2         0.042414       17.250  173.1764   \n",
       "24      Medium  Supermarket Type1         0.065432       16.000   76.1986   \n",
       "25      Medium  Supermarket Type1         0.140241       13.350  150.2392   \n",
       "26       Small  Supermarket Type1         0.033936        6.695  221.9456   \n",
       "27      Medium  Supermarket Type3         0.016516          NaN   47.4034   \n",
       "28       Small  Supermarket Type1         0.026537       16.600   57.2614   \n",
       "29      Medium  Supermarket Type1         0.131128        6.920   93.1804   \n",
       "\n",
       "    Rating  \n",
       "0      5.0  \n",
       "1      5.0  \n",
       "2      5.0  \n",
       "3      5.0  \n",
       "4      5.0  \n",
       "5      5.0  \n",
       "6      5.0  \n",
       "7      5.0  \n",
       "8      5.0  \n",
       "9      5.0  \n",
       "10     5.0  \n",
       "11     5.0  \n",
       "12     5.0  \n",
       "13     5.0  \n",
       "14     5.0  \n",
       "15     5.0  \n",
       "16     5.0  \n",
       "17     5.0  \n",
       "18     5.0  \n",
       "19     5.0  \n",
       "20     5.0  \n",
       "21     5.0  \n",
       "22     5.0  \n",
       "23     5.0  \n",
       "24     5.0  \n",
       "25     5.0  \n",
       "26     5.0  \n",
       "27     5.0  \n",
       "28     5.0  \n",
       "29     5.0  "
      ]
     },
     "execution_count": 3,
     "metadata": {},
     "output_type": "execute_result"
    }
   ],
   "source": [
    "data.head(30)"
   ]
  },
  {
   "cell_type": "markdown",
   "id": "76b48039-bb26-47af-9be5-c27f41a4c58f",
   "metadata": {},
   "source": [
    "### Data Details"
   ]
  },
  {
   "cell_type": "code",
   "execution_count": 4,
   "id": "e79a5f71-4a7f-48a0-8a5f-3bc0b83f8522",
   "metadata": {},
   "outputs": [
    {
     "data": {
      "text/plain": [
       "(8523, 12)"
      ]
     },
     "execution_count": 4,
     "metadata": {},
     "output_type": "execute_result"
    }
   ],
   "source": [
    "data.shape"
   ]
  },
  {
   "cell_type": "markdown",
   "id": "73e3aafa-9e76-4f55-ba12-1b1f77160476",
   "metadata": {},
   "source": [
    "### Field info"
   ]
  },
  {
   "cell_type": "code",
   "execution_count": 5,
   "id": "30effca2-9fcb-4376-aa36-309a1f26f85d",
   "metadata": {},
   "outputs": [
    {
     "name": "stdout",
     "output_type": "stream",
     "text": [
      "<class 'pandas.core.frame.DataFrame'>\n",
      "RangeIndex: 8523 entries, 0 to 8522\n",
      "Data columns (total 12 columns):\n",
      " #   Column                     Non-Null Count  Dtype  \n",
      "---  ------                     --------------  -----  \n",
      " 0   Item Fat Content           8523 non-null   object \n",
      " 1   Item Identifier            8523 non-null   object \n",
      " 2   Item Type                  8523 non-null   object \n",
      " 3   Outlet Establishment Year  8523 non-null   int64  \n",
      " 4   Outlet Identifier          8523 non-null   object \n",
      " 5   Outlet Location Type       8523 non-null   object \n",
      " 6   Outlet Size                8523 non-null   object \n",
      " 7   Outlet Type                8523 non-null   object \n",
      " 8   Item Visibility            8523 non-null   float64\n",
      " 9   Item Weight                7060 non-null   float64\n",
      " 10  Sales                      8523 non-null   float64\n",
      " 11  Rating                     8523 non-null   float64\n",
      "dtypes: float64(4), int64(1), object(7)\n",
      "memory usage: 799.2+ KB\n"
     ]
    }
   ],
   "source": [
    "data.info()"
   ]
  },
  {
   "cell_type": "markdown",
   "id": "26868cd0-7bb0-4548-afdf-96dba2f755ad",
   "metadata": {},
   "source": [
    "### Data Type"
   ]
  },
  {
   "cell_type": "code",
   "execution_count": 6,
   "id": "e466844f-e894-4d28-9f61-049649b3c7e8",
   "metadata": {},
   "outputs": [
    {
     "data": {
      "text/plain": [
       "Item Fat Content              object\n",
       "Item Identifier               object\n",
       "Item Type                     object\n",
       "Outlet Establishment Year      int64\n",
       "Outlet Identifier             object\n",
       "Outlet Location Type          object\n",
       "Outlet Size                   object\n",
       "Outlet Type                   object\n",
       "Item Visibility              float64\n",
       "Item Weight                  float64\n",
       "Sales                        float64\n",
       "Rating                       float64\n",
       "dtype: object"
      ]
     },
     "execution_count": 6,
     "metadata": {},
     "output_type": "execute_result"
    }
   ],
   "source": [
    "data.dtypes"
   ]
  },
  {
   "cell_type": "markdown",
   "id": "524a31bd-54fc-45b6-8512-4b02a550c43c",
   "metadata": {},
   "source": [
    "### Data Cleaning"
   ]
  },
  {
   "cell_type": "code",
   "execution_count": 7,
   "id": "0fe704ca-47c1-4175-ba12-1a446676c9b7",
   "metadata": {},
   "outputs": [
    {
     "name": "stdout",
     "output_type": "stream",
     "text": [
      "['Regular' 'Low Fat' 'low fat' 'LF' 'reg']\n"
     ]
    }
   ],
   "source": [
    "print(data['Item Fat Content'].unique())"
   ]
  },
  {
   "cell_type": "code",
   "execution_count": 8,
   "id": "414eda4b-3c64-4514-9424-4277db06ba8c",
   "metadata": {},
   "outputs": [],
   "source": [
    "data['Item Fat Content']= data['Item Fat Content'].replace({'LF': 'Low Fat','low fat':'Low Fat','reg':'Regular'})"
   ]
  },
  {
   "cell_type": "code",
   "execution_count": 9,
   "id": "801cdd17-934f-4a0a-83ca-a02c1234383a",
   "metadata": {},
   "outputs": [
    {
     "name": "stdout",
     "output_type": "stream",
     "text": [
      "['Regular' 'Low Fat']\n"
     ]
    }
   ],
   "source": [
    "print(data['Item Fat Content'].unique())"
   ]
  },
  {
   "cell_type": "code",
   "execution_count": 10,
   "id": "5bddd063-7a43-4f62-b5a1-50d3e421dc24",
   "metadata": {},
   "outputs": [],
   "source": [
    "data.dropna(how='all',subset=['Item Weight'],inplace=True)"
   ]
  },
  {
   "cell_type": "markdown",
   "id": "d147f874-5500-4dc7-8868-40156d77e5be",
   "metadata": {},
   "source": [
    "### Business Requirement"
   ]
  },
  {
   "cell_type": "markdown",
   "id": "57a455ed-afb3-4af8-883d-ac5d519e36b5",
   "metadata": {},
   "source": [
    "#### Total Sales"
   ]
  },
  {
   "cell_type": "code",
   "execution_count": 11,
   "id": "b18c83d3-b985-462a-97f0-3982eb456575",
   "metadata": {},
   "outputs": [],
   "source": [
    "Total_Sales = data['Sales'].sum()\n",
    "\n"
   ]
  },
  {
   "cell_type": "code",
   "execution_count": 12,
   "id": "81304e1c-b736-4a2b-a622-1c8f71c9519e",
   "metadata": {},
   "outputs": [
    {
     "data": {
      "text/plain": [
       "997159.2238"
      ]
     },
     "execution_count": 12,
     "metadata": {},
     "output_type": "execute_result"
    }
   ],
   "source": [
    "Total_Sales"
   ]
  },
  {
   "cell_type": "markdown",
   "id": "480e1ffb-8540-4535-8c6d-db92cb227da2",
   "metadata": {},
   "source": [
    "#### Average Sales"
   ]
  },
  {
   "cell_type": "code",
   "execution_count": 13,
   "id": "3bf4da6b-426c-4932-926b-c38b54b4bcd2",
   "metadata": {},
   "outputs": [],
   "source": [
    "Average_Sales = data['Sales'].mean()"
   ]
  },
  {
   "cell_type": "code",
   "execution_count": 14,
   "id": "c6d7c255-200a-445b-ad72-72880e5ff2e6",
   "metadata": {},
   "outputs": [
    {
     "data": {
      "text/plain": [
       "141.24068325779038"
      ]
     },
     "execution_count": 14,
     "metadata": {},
     "output_type": "execute_result"
    }
   ],
   "source": [
    "Average_Sales"
   ]
  },
  {
   "cell_type": "markdown",
   "id": "a5844529-da34-495b-817c-f2fc14f9c1c1",
   "metadata": {},
   "source": [
    "#### No of Item Sold"
   ]
  },
  {
   "cell_type": "code",
   "execution_count": 15,
   "id": "ea4c4b68-7028-4165-ad75-53f9da23ef3f",
   "metadata": {},
   "outputs": [],
   "source": [
    "No_of_items_Sold = data['Sales'].count()"
   ]
  },
  {
   "cell_type": "code",
   "execution_count": 16,
   "id": "fb6797ea-11a7-493a-a3eb-18c0a51786c7",
   "metadata": {},
   "outputs": [
    {
     "data": {
      "text/plain": [
       "7060"
      ]
     },
     "execution_count": 16,
     "metadata": {},
     "output_type": "execute_result"
    }
   ],
   "source": [
    "No_of_items_Sold"
   ]
  },
  {
   "cell_type": "markdown",
   "id": "367394b5-338b-4a89-8fdc-5c4843547d88",
   "metadata": {},
   "source": [
    "#### Average Rating"
   ]
  },
  {
   "cell_type": "code",
   "execution_count": 17,
   "id": "14a4b66a-4755-4a22-9389-1efcc3452e1c",
   "metadata": {},
   "outputs": [],
   "source": [
    "avg_Rating = data['Rating'].mean()"
   ]
  },
  {
   "cell_type": "code",
   "execution_count": 18,
   "id": "ed542a55-2053-4e5c-b1d7-a9aae97184eb",
   "metadata": {},
   "outputs": [
    {
     "data": {
      "text/plain": [
       "3.965382436260623"
      ]
     },
     "execution_count": 18,
     "metadata": {},
     "output_type": "execute_result"
    }
   ],
   "source": [
    "avg_Rating"
   ]
  },
  {
   "cell_type": "code",
   "execution_count": 19,
   "id": "4c9edfec-b0d4-463b-8006-a13f3c6ad835",
   "metadata": {},
   "outputs": [
    {
     "name": "stdout",
     "output_type": "stream",
     "text": [
      "No of Toatl_Sales: $997,159\n"
     ]
    }
   ],
   "source": [
    "print(f\"No of Toatl_Sales: ${Total_Sales:,.0f}\")"
   ]
  },
  {
   "cell_type": "markdown",
   "id": "3e2709a1-c08e-4a09-bfc4-6d3776ce6d39",
   "metadata": {},
   "source": [
    "### Chart Requirement"
   ]
  },
  {
   "cell_type": "markdown",
   "id": "f46c630e-df05-4f66-8f6b-7c6909c53a05",
   "metadata": {},
   "source": [
    "#### Total Sales by fat content"
   ]
  },
  {
   "cell_type": "code",
   "execution_count": 20,
   "id": "b637fc67-d368-4872-ad76-06db1eca8dc1",
   "metadata": {},
   "outputs": [
    {
     "data": {
      "image/png": "[encoded data removed]",
      "text/plain": [
       "<Figure size 640x480 with 1 Axes>"
      ]
     },
     "metadata": {},
     "output_type": "display_data"
    }
   ],
   "source": [
    "Sales_by_Fat = data.groupby('Item Fat Content')['Sales'].sum()\n",
    "plt.pie(Sales_by_Fat, labels= Sales_by_Fat.index,autopct='%.1f%%')\n",
    "plt.title('Total Sales By Fat Content')\n",
    "plt.axis=('equal')\n",
    "plt.show()"
   ]
  },
  {
   "cell_type": "markdown",
   "id": "0b84abe4-60b3-4d01-98b9-261ac4899eab",
   "metadata": {},
   "source": [
    "#### Total Sales by Item Size"
   ]
  },
  {
   "cell_type": "code",
   "execution_count": 57,
   "id": "b87d0ab3-eb30-436f-b806-39ae4688cc62",
   "metadata": {},
   "outputs": [
    {
     "data": {
      "image/png": "[encoded data removed]",
      "text/plain": [
       "<Figure size 1000x600 with 1 Axes>"
      ]
     },
     "metadata": {},
     "output_type": "display_data"
    }
   ],
   "source": [
    "Total_Sales_by_Item_Size = data.groupby('Item Type')['Sales'].sum().sort_values(ascending=False)\n",
    "plt.figure(figsize=(10,6))\n",
    "plt.xticks(rotation=-90)\n",
    "bars = plt.bar(Total_Sales_by_Item_Size.index, Total_Sales_by_Item_Size.values)\n",
    "\n",
    "plt.xlabel(\"Sales\")\n",
    "plt.ylabel(\"Item Type\")\n",
    "plt.title('Total Sales by items Size')\n",
    "for bar in bars:\n",
    "    plt.text(bar.get_x() + bar.get_width() / 2, bar.get_height(),\n",
    "            f'{bar.get_height():,.0f}',ha='center', va='bottom', fontsize=8)\n",
    "plt.tight_layout()\n",
    "plt.show()"
   ]
  },
  {
   "cell_type": "markdown",
   "id": "7f360156-29f1-4e0b-8661-fd5a0d08eaac",
   "metadata": {},
   "source": [
    "#### Fat content by Outlet for total sales"
   ]
  },
  {
   "cell_type": "code",
   "execution_count": 23,
   "id": "28851119-cdad-4d32-bd83-295a5940095d",
   "metadata": {},
   "outputs": [
    {
     "data": {
      "image/png": "[encoded data removed]",
      "text/plain": [
       "<Figure size 800x500 with 1 Axes>"
      ]
     },
     "metadata": {},
     "output_type": "display_data"
    }
   ],
   "source": [
    "grouped = data.groupby(['Outlet Location Type', 'Item Fat Content'])['Sales'].sum().unstack()\n",
    "grouped = grouped[['Regular','Low Fat']]\n",
    "ax=grouped.plot(kind='bar' ,figsize=(8,5),title=\"Outlet tier by items fat content\")\n",
    "plt.xlabel('Outlet Location Tier')\n",
    "plt.ylabel('Toatal Sales')\n",
    "plt.legend(title='Item fat content')\n",
    "plt.tight_layout()\n",
    "plt.show()"
   ]
  },
  {
   "cell_type": "markdown",
   "id": "01ef4d1b-7be6-47d0-9b9e-3fc4cfd493e2",
   "metadata": {},
   "source": [
    "#### Total Sales by Outlet Establishment"
   ]
  },
  {
   "cell_type": "code",
   "execution_count": 36,
   "id": "c5aacb79-e1e4-4ad7-b4ad-1b1e33b4e49d",
   "metadata": {},
   "outputs": [
    {
     "data": {
      "image/png": "[encoded data removed]",
      "text/plain": [
       "<Figure size 900x500 with 1 Axes>"
      ]
     },
     "metadata": {},
     "output_type": "display_data"
    }
   ],
   "source": [
    "Sales_by_Year = data.groupby(\"Outlet Establishment Year\")['Sales'].sum().sort_index()\n",
    "plt.figure(figsize=(9,5))\n",
    "plt.plot(Sales_by_Year.index,Sales_by_Year.values, marker='o',linestyle='-')\n",
    "plt.xlabel('Establisment Year')\n",
    "plt.ylabel('Sales')\n",
    "plt.title('Outlet Establishment')\n",
    "for x,y in zip(Sales_by_Year.index,Sales_by_Year.values):\n",
    "    plt.text(x,y,f'{y:,.1f}',ha='center',va='bottom', fontsize=0)\n",
    "plt.tight_layout()\n",
    "plt.show()"
   ]
  },
  {
   "cell_type": "markdown",
   "id": "6032f26c-437d-4495-8ed2-fbb85b0f0ae7",
   "metadata": {},
   "source": [
    "#### Sales by Outlet Size"
   ]
  },
  {
   "cell_type": "code",
   "execution_count": 46,
   "id": "40551403-db90-4934-85d7-539f6d9340f6",
   "metadata": {},
   "outputs": [
    {
     "data": {
      "image/png": "[encoded data removed]",
      "text/plain": [
       "<Figure size 400x400 with 1 Axes>"
      ]
     },
     "metadata": {},
     "output_type": "display_data"
    }
   ],
   "source": [
    "Sales_by_Outlet_Size= data.groupby('Outlet Size')['Sales'].sum()\n",
    "plt.figure(figsize=(4,4))\n",
    "plt.pie(Sales_by_Outlet_Size, labels=Sales_by_Outlet_Size.index,autopct='%1.1f%%', startangle=90)\n",
    "plt.title('Sales by Outlet Size')\n",
    "plt.tight_layout()\n",
    "plt.show()"
   ]
  },
  {
   "cell_type": "markdown",
   "id": "847088d1-d653-4dd8-b79b-505d921998ad",
   "metadata": {},
   "source": [
    "#### Sales by Outlet Location"
   ]
  },
  {
   "cell_type": "code",
   "execution_count": 56,
   "id": "acc9f5e5-cd4c-48ac-aaaa-08616bfbe38b",
   "metadata": {},
   "outputs": [
    {
     "data": {
      "image/png": "[encoded data removed]",
      "text/plain": [
       "<Figure size 800x300 with 1 Axes>"
      ]
     },
     "metadata": {},
     "output_type": "display_data"
    }
   ],
   "source": [
    "Sales_by_Outlet_Location=data.groupby('Outlet Location Type')['Sales'].sum().reset_index()\n",
    "Sales_by_Outlet_Location=Sales_by_Outlet_Location.sort_values('Sales',ascending=False)\n",
    "plt.figure(figsize=(8,3)) # Smaller height, enought width\n",
    "ax = sns.barplot(x='Sales', y='Outlet Location Type', data=Sales_by_Outlet_Location)\n",
    "plt.title('Sales by Outlet Location')\n",
    "plt.tight_layout()  # Ensure layout fit without scroll\n",
    "plt.show()\n"
   ]
  },
  {
   "cell_type": "code",
   "execution_count": null,
   "id": "6c820698-d065-4e09-8ec6-a1c2882d16ba",
   "metadata": {},
   "outputs": [],
   "source": []
  }
 ],
 "metadata": {
  "kernelspec": {
   "display_name": "Python 3 (ipykernel)",
   "language": "python",
   "name": "python3"
  },
  "language_info": {
   "codemirror_mode": {
    "name": "ipython",
    "version": 3
   },
   "file_extension": ".py",
   "mimetype": "text/x-python",
   "name": "python",
   "nbconvert_exporter": "python",
   "pygments_lexer": "ipython3",
   "version": "3.12.7"
  }
 },
 "nbformat": 4,
 "nbformat_minor": 5
}
